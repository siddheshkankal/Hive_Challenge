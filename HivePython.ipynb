{
 "cells": [
  {
   "cell_type": "markdown",
   "id": "2bc8cfbc",
   "metadata": {},
   "source": [
    "# Select Query Operation"
   ]
  },
  {
   "cell_type": "code",
   "execution_count": null,
   "id": "891af030",
   "metadata": {},
   "outputs": [],
   "source": [
    "from pyhive import hive\n",
    "host_name = \"192.168.56.101\"\n",
    "port = 22\n",
    "user = \"cloudera\"\n",
    "password = \"cloudera\"\n",
    "database=\"default\"\n",
    "\n",
    "try:  \n",
    "    conn = hive.Connection(host=host_name, port=port, username=user, password=password,\n",
    "                           database=database, auth='CUSTOM')\n",
    "    cur = conn.cursor()\n",
    "    cur.execute('select *  from Air_quality  limit 2')\n",
    "    result = cur.fetchall()\n",
    "    print(result)\n",
    "except Exception as e:\n",
    "    logging.error(str(e))"
   ]
  },
  {
   "cell_type": "markdown",
   "id": "0e28e6db",
   "metadata": {},
   "source": [
    "# Join operation"
   ]
  },
  {
   "cell_type": "code",
   "execution_count": null,
   "id": "7248e0b5",
   "metadata": {},
   "outputs": [],
   "source": [
    "from pyhive import hive\n",
    "host_name = \"192.168.56.101\"\n",
    "port = 22\n",
    "user = \"cloudera\"\n",
    "password = \"cloudera\"\n",
    "database=\"default\"\n",
    "\n",
    "try:  \n",
    "    conn = hive.Connection(host=host_name, port=port, username=user, password=password,\n",
    "                           database=database, auth='CUSTOM')\n",
    "    cur = conn.cursor()\n",
    "    cur.execute('select c.ID,c.name,c.address,o.oid,o.amount from customers c inner join order o on c.id = o.CUSTOMER_ID')\n",
    "    result = cur.fetchall()\n",
    "    print(result)\n",
    "except Exception as e:\n",
    "    logging.error(str(e))"
   ]
  },
  {
   "cell_type": "markdown",
   "id": "4f8ee01d",
   "metadata": {},
   "source": [
    "# Drop Table operation "
   ]
  },
  {
   "cell_type": "code",
   "execution_count": null,
   "id": "247bf93c",
   "metadata": {},
   "outputs": [],
   "source": [
    "from pyhive import hive\n",
    "host_name = \"192.168.56.101\"\n",
    "port = 22\n",
    "user = \"cloudera\"\n",
    "password = \"cloudera\"\n",
    "database=\"monty\"\n",
    "\n",
    "\n",
    "try:\n",
    "    conn = hive.Connection(host=host_name, port=port, username=user, password=password,\n",
    "                           database=database, auth='CUSTOM')\n",
    "    cur = conn.cursor()\n",
    "    cur.execute('drop table Air_quality2')\n",
    "except Exception as e:\n",
    "    logging.error(str(e))\n"
   ]
  },
  {
   "cell_type": "markdown",
   "id": "abb13338",
   "metadata": {},
   "source": [
    "# Filter operation"
   ]
  },
  {
   "cell_type": "markdown",
   "id": "fb97961a",
   "metadata": {},
   "source": [
    "from pyhive import hive\n",
    "host_name = \"192.168.56.101\"\n",
    "port = 22\n",
    "user = \"cloudera\"\n",
    "password = \"cloudera\"\n",
    "database=\"default\"\n",
    "\n",
    "try:  \n",
    "    conn = hive.Connection(host=host_name, port=port, username=user, password=password,\n",
    "                           database=database, auth='CUSTOM')\n",
    "    cur = conn.cursor()\n",
    "    cur.execute('select *  from Air_quality where T = 70')\n",
    "    result = cur.fetchall()\n",
    "    print(result)\n",
    "except Exception as e:\n",
    "    logging.error(str(e))"
   ]
  }
 ],
 "metadata": {
  "kernelspec": {
   "display_name": "Python 3 (ipykernel)",
   "language": "python",
   "name": "python3"
  },
  "language_info": {
   "codemirror_mode": {
    "name": "ipython",
    "version": 3
   },
   "file_extension": ".py",
   "mimetype": "text/x-python",
   "name": "python",
   "nbconvert_exporter": "python",
   "pygments_lexer": "ipython3",
   "version": "3.10.7"
  }
 },
 "nbformat": 4,
 "nbformat_minor": 5
}
